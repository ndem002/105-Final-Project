{
 "cells": [
  {
   "cell_type": "markdown",
   "id": "9b0ec5bb-2926-43e8-94c6-0ffe4a0c3f91",
   "metadata": {},
   "source": [
    "# Initializing Libraries and Reading in the Data"
   ]
  },
  {
   "cell_type": "code",
   "execution_count": 1,
   "id": "c03eeeb1-f37a-4865-a868-a04bb7ba9a46",
   "metadata": {},
   "outputs": [
    {
     "data": {
      "text/html": [
       "<div>\n",
       "<style scoped>\n",
       "    .dataframe tbody tr th:only-of-type {\n",
       "        vertical-align: middle;\n",
       "    }\n",
       "\n",
       "    .dataframe tbody tr th {\n",
       "        vertical-align: top;\n",
       "    }\n",
       "\n",
       "    .dataframe thead th {\n",
       "        text-align: right;\n",
       "    }\n",
       "</style>\n",
       "<table border=\"1\" class=\"dataframe\">\n",
       "  <thead>\n",
       "    <tr style=\"text-align: right;\">\n",
       "      <th></th>\n",
       "      <th>timestamp</th>\n",
       "      <th>company</th>\n",
       "      <th>level</th>\n",
       "      <th>title</th>\n",
       "      <th>totalyearlycompensation</th>\n",
       "      <th>location</th>\n",
       "      <th>yearsofexperience</th>\n",
       "      <th>yearsatcompany</th>\n",
       "      <th>tag</th>\n",
       "      <th>basesalary</th>\n",
       "      <th>...</th>\n",
       "      <th>Doctorate_Degree</th>\n",
       "      <th>Highschool</th>\n",
       "      <th>Some_College</th>\n",
       "      <th>Race_Asian</th>\n",
       "      <th>Race_White</th>\n",
       "      <th>Race_Two_Or_More</th>\n",
       "      <th>Race_Black</th>\n",
       "      <th>Race_Hispanic</th>\n",
       "      <th>Race</th>\n",
       "      <th>Education</th>\n",
       "    </tr>\n",
       "  </thead>\n",
       "  <tbody>\n",
       "    <tr>\n",
       "      <th>0</th>\n",
       "      <td>6/7/2017 11:33:27</td>\n",
       "      <td>Oracle</td>\n",
       "      <td>L3</td>\n",
       "      <td>Product Manager</td>\n",
       "      <td>127000</td>\n",
       "      <td>Redwood City, CA</td>\n",
       "      <td>1.5</td>\n",
       "      <td>1.5</td>\n",
       "      <td>NaN</td>\n",
       "      <td>107000.0</td>\n",
       "      <td>...</td>\n",
       "      <td>0</td>\n",
       "      <td>0</td>\n",
       "      <td>0</td>\n",
       "      <td>0</td>\n",
       "      <td>0</td>\n",
       "      <td>0</td>\n",
       "      <td>0</td>\n",
       "      <td>0</td>\n",
       "      <td>NaN</td>\n",
       "      <td>NaN</td>\n",
       "    </tr>\n",
       "    <tr>\n",
       "      <th>1</th>\n",
       "      <td>6/10/2017 17:11:29</td>\n",
       "      <td>eBay</td>\n",
       "      <td>SE 2</td>\n",
       "      <td>Software Engineer</td>\n",
       "      <td>100000</td>\n",
       "      <td>San Francisco, CA</td>\n",
       "      <td>5.0</td>\n",
       "      <td>3.0</td>\n",
       "      <td>NaN</td>\n",
       "      <td>0.0</td>\n",
       "      <td>...</td>\n",
       "      <td>0</td>\n",
       "      <td>0</td>\n",
       "      <td>0</td>\n",
       "      <td>0</td>\n",
       "      <td>0</td>\n",
       "      <td>0</td>\n",
       "      <td>0</td>\n",
       "      <td>0</td>\n",
       "      <td>NaN</td>\n",
       "      <td>NaN</td>\n",
       "    </tr>\n",
       "    <tr>\n",
       "      <th>2</th>\n",
       "      <td>6/11/2017 14:53:57</td>\n",
       "      <td>Amazon</td>\n",
       "      <td>L7</td>\n",
       "      <td>Product Manager</td>\n",
       "      <td>310000</td>\n",
       "      <td>Seattle, WA</td>\n",
       "      <td>8.0</td>\n",
       "      <td>0.0</td>\n",
       "      <td>NaN</td>\n",
       "      <td>155000.0</td>\n",
       "      <td>...</td>\n",
       "      <td>0</td>\n",
       "      <td>0</td>\n",
       "      <td>0</td>\n",
       "      <td>0</td>\n",
       "      <td>0</td>\n",
       "      <td>0</td>\n",
       "      <td>0</td>\n",
       "      <td>0</td>\n",
       "      <td>NaN</td>\n",
       "      <td>NaN</td>\n",
       "    </tr>\n",
       "    <tr>\n",
       "      <th>3</th>\n",
       "      <td>6/17/2017 0:23:14</td>\n",
       "      <td>Apple</td>\n",
       "      <td>M1</td>\n",
       "      <td>Software Engineering Manager</td>\n",
       "      <td>372000</td>\n",
       "      <td>Sunnyvale, CA</td>\n",
       "      <td>7.0</td>\n",
       "      <td>5.0</td>\n",
       "      <td>NaN</td>\n",
       "      <td>157000.0</td>\n",
       "      <td>...</td>\n",
       "      <td>0</td>\n",
       "      <td>0</td>\n",
       "      <td>0</td>\n",
       "      <td>0</td>\n",
       "      <td>0</td>\n",
       "      <td>0</td>\n",
       "      <td>0</td>\n",
       "      <td>0</td>\n",
       "      <td>NaN</td>\n",
       "      <td>NaN</td>\n",
       "    </tr>\n",
       "    <tr>\n",
       "      <th>4</th>\n",
       "      <td>6/20/2017 10:58:51</td>\n",
       "      <td>Microsoft</td>\n",
       "      <td>60</td>\n",
       "      <td>Software Engineer</td>\n",
       "      <td>157000</td>\n",
       "      <td>Mountain View, CA</td>\n",
       "      <td>5.0</td>\n",
       "      <td>3.0</td>\n",
       "      <td>NaN</td>\n",
       "      <td>0.0</td>\n",
       "      <td>...</td>\n",
       "      <td>0</td>\n",
       "      <td>0</td>\n",
       "      <td>0</td>\n",
       "      <td>0</td>\n",
       "      <td>0</td>\n",
       "      <td>0</td>\n",
       "      <td>0</td>\n",
       "      <td>0</td>\n",
       "      <td>NaN</td>\n",
       "      <td>NaN</td>\n",
       "    </tr>\n",
       "  </tbody>\n",
       "</table>\n",
       "<p>5 rows × 29 columns</p>\n",
       "</div>"
      ],
      "text/plain": [
       "            timestamp    company level                         title  \\\n",
       "0   6/7/2017 11:33:27     Oracle    L3               Product Manager   \n",
       "1  6/10/2017 17:11:29       eBay  SE 2             Software Engineer   \n",
       "2  6/11/2017 14:53:57     Amazon    L7               Product Manager   \n",
       "3   6/17/2017 0:23:14      Apple    M1  Software Engineering Manager   \n",
       "4  6/20/2017 10:58:51  Microsoft    60             Software Engineer   \n",
       "\n",
       "   totalyearlycompensation           location  yearsofexperience  \\\n",
       "0                   127000   Redwood City, CA                1.5   \n",
       "1                   100000  San Francisco, CA                5.0   \n",
       "2                   310000        Seattle, WA                8.0   \n",
       "3                   372000      Sunnyvale, CA                7.0   \n",
       "4                   157000  Mountain View, CA                5.0   \n",
       "\n",
       "   yearsatcompany  tag  basesalary  ...  Doctorate_Degree  Highschool  \\\n",
       "0             1.5  NaN    107000.0  ...                 0           0   \n",
       "1             3.0  NaN         0.0  ...                 0           0   \n",
       "2             0.0  NaN    155000.0  ...                 0           0   \n",
       "3             5.0  NaN    157000.0  ...                 0           0   \n",
       "4             3.0  NaN         0.0  ...                 0           0   \n",
       "\n",
       "  Some_College Race_Asian  Race_White  Race_Two_Or_More  Race_Black  \\\n",
       "0            0          0           0                 0           0   \n",
       "1            0          0           0                 0           0   \n",
       "2            0          0           0                 0           0   \n",
       "3            0          0           0                 0           0   \n",
       "4            0          0           0                 0           0   \n",
       "\n",
       "   Race_Hispanic  Race  Education  \n",
       "0              0   NaN        NaN  \n",
       "1              0   NaN        NaN  \n",
       "2              0   NaN        NaN  \n",
       "3              0   NaN        NaN  \n",
       "4              0   NaN        NaN  \n",
       "\n",
       "[5 rows x 29 columns]"
      ]
     },
     "execution_count": 1,
     "metadata": {},
     "output_type": "execute_result"
    }
   ],
   "source": [
    "%matplotlib inline\n",
    "import matplotlib\n",
    "import pandas as pd\n",
    "import numpy as np\n",
    "import seaborn as sns\n",
    "import pylab as py\n",
    "import math as math\n",
    "\n",
    "df = pd.read_csv(\"Levels_Fyi_Salary_Data.csv\")\n",
    "df.head()"
   ]
  },
  {
   "cell_type": "markdown",
   "id": "65ff7b7a-b27c-432e-bd94-999849edc062",
   "metadata": {},
   "source": [
    "# Cleaning The Data"
   ]
  },
  {
   "cell_type": "code",
   "execution_count": 2,
   "id": "d72af6d9-cb89-49ce-8b71-dc7344b2885a",
   "metadata": {},
   "outputs": [
    {
     "name": "stdout",
     "output_type": "stream",
     "text": [
      "company\n",
      "10x Genomics     6\n",
      "23andMe          7\n",
      "2U               7\n",
      "3M              21\n",
      "3m               3\n",
      "                ..\n",
      "zoom             1\n",
      "zoominfo         1\n",
      "zoox             3\n",
      "zynga            1\n",
      " Google          1\n",
      "Name: timestamp, Length: 1631, dtype: int64\n"
     ]
    }
   ],
   "source": [
    "number_of_entries_by_company = df.groupby(\"company\")[\"timestamp\"].count()\n",
    "print(number_of_entries_by_company)"
   ]
  },
  {
   "cell_type": "code",
   "execution_count": 3,
   "id": "06643524-227a-441d-8cab-74143a8859eb",
   "metadata": {},
   "outputs": [
    {
     "name": "stdout",
     "output_type": "stream",
     "text": [
      "                totalyearlycompensation  yearsatcompany  yearsofexperience  \\\n",
      "company                                                                      \n",
      "Amazon                         227352.0             2.0                7.0   \n",
      "Apple                          277930.0             3.0                8.0   \n",
      "Bloomberg                      211050.0             2.0                5.0   \n",
      "Capital One                    148808.0             2.0                6.0   \n",
      "Cisco                          196243.0             5.0                9.0   \n",
      "Facebook                       344527.0             1.0                7.0   \n",
      "Google                         283290.0             3.0                7.0   \n",
      "IBM                            137724.0             4.0                7.0   \n",
      "Intel                          180525.0             7.0                9.0   \n",
      "JPMorgan Chase                 136250.0             3.0                7.0   \n",
      "LinkedIn                       307680.0             2.0                7.0   \n",
      "Microsoft                      208501.0             4.0                8.0   \n",
      "Oracle                         212571.0             3.0                9.0   \n",
      "Qualcomm                       191547.0             5.0                8.0   \n",
      "Salesforce                     260550.0             2.0                9.0   \n",
      "Uber                           304648.0             2.0                7.0   \n",
      "VMware                         214721.0             3.0                9.0   \n",
      "\n",
      "                counts  \n",
      "company                 \n",
      "Amazon            8126  \n",
      "Apple             2028  \n",
      "Bloomberg          537  \n",
      "Capital One        778  \n",
      "Cisco              907  \n",
      "Facebook          2990  \n",
      "Google            4330  \n",
      "IBM                907  \n",
      "Intel              949  \n",
      "JPMorgan Chase     541  \n",
      "LinkedIn           701  \n",
      "Microsoft         5216  \n",
      "Oracle            1128  \n",
      "Qualcomm           565  \n",
      "Salesforce        1056  \n",
      "Uber               880  \n",
      "VMware             657  \n"
     ]
    }
   ],
   "source": [
    "statistics_by_company_df = np.round(pd.pivot_table(df, index = [\"company\"], values = [\"totalyearlycompensation\", \"yearsofexperience\", \"yearsatcompany\"], aggfunc='mean'))\n",
    "\n",
    "statistics_by_company_df['counts'] = number_of_entries_by_company\n",
    "statistics_by_company_df = statistics_by_company_df[~(statistics_by_company_df['counts'] <= 500)] # Limits the number of companies by removing companies with 500 or less rows in the dataset.\n",
    "\n",
    "print(statistics_by_company_df)"
   ]
  },
  {
   "cell_type": "code",
   "execution_count": 4,
   "id": "27cc5e9c-b9aa-49dc-af23-b94acccc9b12",
   "metadata": {},
   "outputs": [
    {
     "data": {
      "text/html": [
       "<div>\n",
       "<style scoped>\n",
       "    .dataframe tbody tr th:only-of-type {\n",
       "        vertical-align: middle;\n",
       "    }\n",
       "\n",
       "    .dataframe tbody tr th {\n",
       "        vertical-align: top;\n",
       "    }\n",
       "\n",
       "    .dataframe thead th {\n",
       "        text-align: right;\n",
       "    }\n",
       "</style>\n",
       "<table border=\"1\" class=\"dataframe\">\n",
       "  <thead>\n",
       "    <tr style=\"text-align: right;\">\n",
       "      <th></th>\n",
       "      <th>timestamp</th>\n",
       "      <th>company</th>\n",
       "      <th>level</th>\n",
       "      <th>title</th>\n",
       "      <th>totalyearlycompensation</th>\n",
       "      <th>location</th>\n",
       "      <th>yearsofexperience</th>\n",
       "      <th>yearsatcompany</th>\n",
       "      <th>tag</th>\n",
       "      <th>basesalary</th>\n",
       "      <th>...</th>\n",
       "      <th>Doctorate_Degree</th>\n",
       "      <th>Highschool</th>\n",
       "      <th>Some_College</th>\n",
       "      <th>Race_Asian</th>\n",
       "      <th>Race_White</th>\n",
       "      <th>Race_Two_Or_More</th>\n",
       "      <th>Race_Black</th>\n",
       "      <th>Race_Hispanic</th>\n",
       "      <th>Race</th>\n",
       "      <th>Education</th>\n",
       "    </tr>\n",
       "  </thead>\n",
       "  <tbody>\n",
       "    <tr>\n",
       "      <th>0</th>\n",
       "      <td>6/7/2017 11:33:27</td>\n",
       "      <td>Oracle</td>\n",
       "      <td>L3</td>\n",
       "      <td>Product Manager</td>\n",
       "      <td>127000</td>\n",
       "      <td>Redwood City, CA</td>\n",
       "      <td>1.5</td>\n",
       "      <td>1.5</td>\n",
       "      <td>NaN</td>\n",
       "      <td>107000.0</td>\n",
       "      <td>...</td>\n",
       "      <td>0</td>\n",
       "      <td>0</td>\n",
       "      <td>0</td>\n",
       "      <td>0</td>\n",
       "      <td>0</td>\n",
       "      <td>0</td>\n",
       "      <td>0</td>\n",
       "      <td>0</td>\n",
       "      <td>NaN</td>\n",
       "      <td>NaN</td>\n",
       "    </tr>\n",
       "    <tr>\n",
       "      <th>2</th>\n",
       "      <td>6/11/2017 14:53:57</td>\n",
       "      <td>Amazon</td>\n",
       "      <td>L7</td>\n",
       "      <td>Product Manager</td>\n",
       "      <td>310000</td>\n",
       "      <td>Seattle, WA</td>\n",
       "      <td>8.0</td>\n",
       "      <td>0.0</td>\n",
       "      <td>NaN</td>\n",
       "      <td>155000.0</td>\n",
       "      <td>...</td>\n",
       "      <td>0</td>\n",
       "      <td>0</td>\n",
       "      <td>0</td>\n",
       "      <td>0</td>\n",
       "      <td>0</td>\n",
       "      <td>0</td>\n",
       "      <td>0</td>\n",
       "      <td>0</td>\n",
       "      <td>NaN</td>\n",
       "      <td>NaN</td>\n",
       "    </tr>\n",
       "    <tr>\n",
       "      <th>3</th>\n",
       "      <td>6/17/2017 0:23:14</td>\n",
       "      <td>Apple</td>\n",
       "      <td>M1</td>\n",
       "      <td>Software Engineering Manager</td>\n",
       "      <td>372000</td>\n",
       "      <td>Sunnyvale, CA</td>\n",
       "      <td>7.0</td>\n",
       "      <td>5.0</td>\n",
       "      <td>NaN</td>\n",
       "      <td>157000.0</td>\n",
       "      <td>...</td>\n",
       "      <td>0</td>\n",
       "      <td>0</td>\n",
       "      <td>0</td>\n",
       "      <td>0</td>\n",
       "      <td>0</td>\n",
       "      <td>0</td>\n",
       "      <td>0</td>\n",
       "      <td>0</td>\n",
       "      <td>NaN</td>\n",
       "      <td>NaN</td>\n",
       "    </tr>\n",
       "    <tr>\n",
       "      <th>4</th>\n",
       "      <td>6/20/2017 10:58:51</td>\n",
       "      <td>Microsoft</td>\n",
       "      <td>60</td>\n",
       "      <td>Software Engineer</td>\n",
       "      <td>157000</td>\n",
       "      <td>Mountain View, CA</td>\n",
       "      <td>5.0</td>\n",
       "      <td>3.0</td>\n",
       "      <td>NaN</td>\n",
       "      <td>0.0</td>\n",
       "      <td>...</td>\n",
       "      <td>0</td>\n",
       "      <td>0</td>\n",
       "      <td>0</td>\n",
       "      <td>0</td>\n",
       "      <td>0</td>\n",
       "      <td>0</td>\n",
       "      <td>0</td>\n",
       "      <td>0</td>\n",
       "      <td>NaN</td>\n",
       "      <td>NaN</td>\n",
       "    </tr>\n",
       "    <tr>\n",
       "      <th>5</th>\n",
       "      <td>6/21/2017 17:27:47</td>\n",
       "      <td>Microsoft</td>\n",
       "      <td>63</td>\n",
       "      <td>Software Engineer</td>\n",
       "      <td>208000</td>\n",
       "      <td>Seattle, WA</td>\n",
       "      <td>8.5</td>\n",
       "      <td>8.5</td>\n",
       "      <td>NaN</td>\n",
       "      <td>0.0</td>\n",
       "      <td>...</td>\n",
       "      <td>0</td>\n",
       "      <td>0</td>\n",
       "      <td>0</td>\n",
       "      <td>0</td>\n",
       "      <td>0</td>\n",
       "      <td>0</td>\n",
       "      <td>0</td>\n",
       "      <td>0</td>\n",
       "      <td>NaN</td>\n",
       "      <td>NaN</td>\n",
       "    </tr>\n",
       "  </tbody>\n",
       "</table>\n",
       "<p>5 rows × 29 columns</p>\n",
       "</div>"
      ],
      "text/plain": [
       "            timestamp    company level                         title  \\\n",
       "0   6/7/2017 11:33:27     Oracle    L3               Product Manager   \n",
       "2  6/11/2017 14:53:57     Amazon    L7               Product Manager   \n",
       "3   6/17/2017 0:23:14      Apple    M1  Software Engineering Manager   \n",
       "4  6/20/2017 10:58:51  Microsoft    60             Software Engineer   \n",
       "5  6/21/2017 17:27:47  Microsoft    63             Software Engineer   \n",
       "\n",
       "   totalyearlycompensation           location  yearsofexperience  \\\n",
       "0                   127000   Redwood City, CA                1.5   \n",
       "2                   310000        Seattle, WA                8.0   \n",
       "3                   372000      Sunnyvale, CA                7.0   \n",
       "4                   157000  Mountain View, CA                5.0   \n",
       "5                   208000        Seattle, WA                8.5   \n",
       "\n",
       "   yearsatcompany  tag  basesalary  ...  Doctorate_Degree  Highschool  \\\n",
       "0             1.5  NaN    107000.0  ...                 0           0   \n",
       "2             0.0  NaN    155000.0  ...                 0           0   \n",
       "3             5.0  NaN    157000.0  ...                 0           0   \n",
       "4             3.0  NaN         0.0  ...                 0           0   \n",
       "5             8.5  NaN         0.0  ...                 0           0   \n",
       "\n",
       "  Some_College Race_Asian  Race_White  Race_Two_Or_More  Race_Black  \\\n",
       "0            0          0           0                 0           0   \n",
       "2            0          0           0                 0           0   \n",
       "3            0          0           0                 0           0   \n",
       "4            0          0           0                 0           0   \n",
       "5            0          0           0                 0           0   \n",
       "\n",
       "   Race_Hispanic  Race  Education  \n",
       "0              0   NaN        NaN  \n",
       "2              0   NaN        NaN  \n",
       "3              0   NaN        NaN  \n",
       "4              0   NaN        NaN  \n",
       "5              0   NaN        NaN  \n",
       "\n",
       "[5 rows x 29 columns]"
      ]
     },
     "execution_count": 4,
     "metadata": {},
     "output_type": "execute_result"
    }
   ],
   "source": [
    "# Removing Companies from DF irrelevant for analysis\n",
    "mask = df['company'].isin(statistics_by_company_df.index)\n",
    "df = df[mask]\n",
    "df.head()"
   ]
  },
  {
   "cell_type": "markdown",
   "id": "25e28b13-63ec-4f1d-8c28-ed8d8f3dd1c2",
   "metadata": {},
   "source": [
    "# Some information about our data"
   ]
  },
  {
   "cell_type": "markdown",
   "id": "54d15d92-212a-44f8-bc67-bc39ca06b58a",
   "metadata": {},
   "source": [
    "## Maximum, Minimum, Standard Deviation, and Mean"
   ]
  },
  {
   "cell_type": "code",
   "execution_count": 5,
   "id": "b618dd11-a493-45bd-ba42-059b0f3d96e4",
   "metadata": {},
   "outputs": [
    {
     "name": "stdout",
     "output_type": "stream",
     "text": [
      "Yearly Compensation:\n",
      "  - Min: 10000\n",
      "  - Max: 4980000\n",
      "  - Standard Deviation: 145791.82884859652\n",
      "  - Mean: 240911.02322269013\n",
      "\n",
      "Years of Experience:\n",
      "  - Min: 0.0\n",
      "  - Max: 45.0\n",
      "  - Standard Deviation: 6.120999884216619\n",
      "  - Mean: 7.465093200396334\n",
      "\n",
      "Years at Company:\n",
      "  - Min: 0.0\n",
      "  - Max: 34.0\n",
      "  - Standard Deviation: 3.495071362546766\n",
      "  - Mean: 2.831256997770622\n",
      "\n"
     ]
    }
   ],
   "source": [
    "overall_statistics = [\n",
    "                      [df['totalyearlycompensation'].min(),\n",
    "                      df['totalyearlycompensation'].max(),\n",
    "                      df['totalyearlycompensation'].std(),\n",
    "                      df['totalyearlycompensation'].mean()\n",
    "                      ], \n",
    "                      [df['yearsofexperience'].min(),\n",
    "                       df['yearsofexperience'].max(),\n",
    "                       df['yearsofexperience'].std(),\n",
    "                       df['yearsofexperience'].mean()\n",
    "                      ], \n",
    "                      [df['yearsatcompany'].min(),\n",
    "                       df['yearsatcompany'].max(),\n",
    "                       df['yearsatcompany'].std(),\n",
    "                       df['yearsatcompany'].mean()\n",
    "                      ]\n",
    "                     ]\n",
    "\n",
    "type_names = ['Yearly Compensation', 'Years of Experience', 'Years at Company']\n",
    "statistic_names = ['Min', 'Max', 'Standard Deviation', 'Mean']\n",
    "\n",
    "index_outer = 0;\n",
    "for i in type_names:\n",
    "    print(i + ':')\n",
    "    index_inner = 0;\n",
    "    for j in statistic_names:\n",
    "        print('  - ' + j + ': ' + str(overall_statistics[index_outer][index_inner]))\n",
    "        index_inner += 1;\n",
    "    index_outer += 1;\n",
    "    print('')"
   ]
  },
  {
   "cell_type": "markdown",
   "id": "642cfc8f-de81-41c7-83cf-d9a62c5c2bd1",
   "metadata": {},
   "source": [
    "## Average Total Yearly Compensation by Company"
   ]
  },
  {
   "cell_type": "code",
   "execution_count": 6,
   "id": "9e53f39e-53c9-48e5-a4fb-f27cf18ab11e",
   "metadata": {},
   "outputs": [
    {
     "data": {
      "text/plain": [
       "<AxesSubplot:xlabel='company'>"
      ]
     },
     "execution_count": 6,
     "metadata": {},
     "output_type": "execute_result"
    },
    {
     "data": {
      "image/png": "[encoded data removed]",
      "text/plain": [
       "<Figure size 432x288 with 1 Axes>"
      ]
     },
     "metadata": {
      "needs_background": "light"
     },
     "output_type": "display_data"
    }
   ],
   "source": [
    "statistics_by_company_df.plot.bar(y='totalyearlycompensation')"
   ]
  },
  {
   "cell_type": "markdown",
   "id": "4a3dddc7-ac4d-4ad9-8b8e-60e7aa529e11",
   "metadata": {},
   "source": [
    "## Average Years at Company"
   ]
  },
  {
   "cell_type": "code",
   "execution_count": 7,
   "id": "b6669057-c198-41ae-a3dd-40ef33b328be",
   "metadata": {},
   "outputs": [
    {
     "data": {
      "text/plain": [
       "<AxesSubplot:xlabel='company'>"
      ]
     },
     "execution_count": 7,
     "metadata": {},
     "output_type": "execute_result"
    },
    {
     "data": {
      "image/png": "[encoded data removed]",
      "text/plain": [
       "<Figure size 432x288 with 1 Axes>"
      ]
     },
     "metadata": {
      "needs_background": "light"
     },
     "output_type": "display_data"
    }
   ],
   "source": [
    "statistics_by_company_df.plot.bar(y='yearsatcompany')"
   ]
  },
  {
   "cell_type": "markdown",
   "id": "78779302-9672-4eb9-8b59-6db9e2558825",
   "metadata": {},
   "source": [
    "## Average Years of Experience by Company"
   ]
  },
  {
   "cell_type": "code",
   "execution_count": 8,
   "id": "67e9a015-241e-4afc-a58f-38d021cd0010",
   "metadata": {},
   "outputs": [
    {
     "data": {
      "text/plain": [
       "<AxesSubplot:xlabel='company'>"
      ]
     },
     "execution_count": 8,
     "metadata": {},
     "output_type": "execute_result"
    },
    {
     "data": {
      "image/png": "[encoded data removed]",
      "text/plain": [
       "<Figure size 432x288 with 1 Axes>"
      ]
     },
     "metadata": {
      "needs_background": "light"
     },
     "output_type": "display_data"
    }
   ],
   "source": [
    "statistics_by_company_df.plot.bar(y='yearsofexperience')"
   ]
  },
  {
   "cell_type": "markdown",
   "id": "aa8e53fa-c06c-455a-b791-19e0a68ee91f",
   "metadata": {},
   "source": [
    "## Number of Data Entries we have per Company"
   ]
  },
  {
   "cell_type": "code",
   "execution_count": 10,
   "id": "cb4a33ee-03fb-4817-b0ca-628928fac161",
   "metadata": {},
   "outputs": [
    {
     "data": {
      "text/plain": [
       "<AxesSubplot:xlabel='company'>"
      ]
     },
     "execution_count": 10,
     "metadata": {},
     "output_type": "execute_result"
    },
    {
     "data": {
      "image/png": "[encoded data removed]",
      "text/plain": [
       "<Figure size 432x288 with 1 Axes>"
      ]
     },
     "metadata": {
      "needs_background": "light"
     },
     "output_type": "display_data"
    }
   ],
   "source": [
    "statistics_by_company_df.plot.bar(y='counts')"
   ]
  },
  {
   "cell_type": "markdown",
   "id": "4bb1e2c3-5dbe-4fd7-8824-f2e94e386317",
   "metadata": {},
   "source": [
    "## Education of the Workforce"
   ]
  },
  {
   "cell_type": "code",
   "execution_count": null,
   "id": "d549c151-29d7-4638-bbe2-e3b8475830d9",
   "metadata": {},
   "outputs": [],
   "source": []
  }
 ],
 "metadata": {
  "kernelspec": {
   "display_name": "Python 3",
   "language": "python",
   "name": "python3"
  },
  "language_info": {
   "codemirror_mode": {
    "name": "ipython",
    "version": 3
   },
   "file_extension": ".py",
   "mimetype": "text/x-python",
   "name": "python",
   "nbconvert_exporter": "python",
   "pygments_lexer": "ipython3",
   "version": "3.8.8"
  }
 },
 "nbformat": 4,
 "nbformat_minor": 5
}
